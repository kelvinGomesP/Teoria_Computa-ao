{
  "nbformat": 4,
  "nbformat_minor": 0,
  "metadata": {
    "colab": {
      "provenance": []
    },
    "kernelspec": {
      "name": "python3",
      "display_name": "Python 3"
    },
    "language_info": {
      "name": "python"
    }
  },
  "cells": [
    {
      "cell_type": "code",
      "execution_count": 1,
      "metadata": {
        "colab": {
          "base_uri": "https://localhost:8080/"
        },
        "id": "i_IH8ovsdLx8",
        "outputId": "7c56fd23-24bb-4150-a0ce-ccbc671e21f8"
      },
      "outputs": [
        {
          "output_type": "stream",
          "name": "stdout",
          "text": [
            "Word: abba -> Accepted | Path: w => {'R'} -> {'S'} -> {'T'} -> {'S'} -> {'R'}\n"
          ]
        }
      ],
      "source": [
        "class Automaton:\n",
        "    def __init__(self):\n",
        "        self.states = {'R', 'S', 'T', 'U'}\n",
        "\n",
        "    def transition(self, current_states, input_char):\n",
        "        next_states = set()\n",
        "        for state in current_states:\n",
        "            if state == 'R':\n",
        "                if input_char == 'a':\n",
        "                    next_states.add('S')\n",
        "                elif input_char == 'b':\n",
        "                    next_states.add('U')\n",
        "            elif state == 'S':\n",
        "                if input_char == 'a':\n",
        "                    next_states.add('R')\n",
        "                elif input_char == 'b':\n",
        "                    next_states.add('T')\n",
        "            elif state == 'T':\n",
        "                if input_char == 'a':\n",
        "                    next_states.add('U')\n",
        "                elif input_char == 'b':\n",
        "                    next_states.add('S')\n",
        "            elif state == 'U':\n",
        "                if input_char == 'a':\n",
        "                    next_states.add('T')\n",
        "                elif input_char == 'b':\n",
        "                    next_states.add('R')\n",
        "        return next_states\n",
        "\n",
        "    def get_path(self, word):\n",
        "        current_states = {'R'}\n",
        "        path = [set(current_states)]\n",
        "\n",
        "        for char in word:\n",
        "            current_states = self.transition(current_states, char)\n",
        "            path.append(set(current_states))\n",
        "\n",
        "\n",
        "        path_string = \"w => \" + \" -> \".join(str(states) for states in path)\n",
        "        return path_string\n",
        "\n",
        "    def is_accepted(self, word):\n",
        "        current_states = {'R'}\n",
        "        for char in word:\n",
        "            current_states = self.transition(current_states, char)\n",
        "\n",
        "\n",
        "        return 'R' in current_states\n",
        "\n",
        "def test_automaton():\n",
        "    automaton = Automaton()\n",
        "    word = \"abba\"\n",
        "    path = automaton.get_path(word)\n",
        "    accepted = automaton.is_accepted(word)\n",
        "    print(f\"Word: {word} -> {'Accepted' if accepted else 'Rejected'} | Path: {path}\")\n",
        "\n",
        "test_automaton()\n"
      ]
    }
  ]
}